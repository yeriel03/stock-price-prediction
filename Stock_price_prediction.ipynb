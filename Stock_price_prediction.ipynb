{
  "nbformat": 4,
  "nbformat_minor": 0,
  "metadata": {
    "colab": {
      "provenance": [],
      "authorship_tag": "ABX9TyPNHvp/DGKnVt7qs997cJe0",
      "include_colab_link": true
    },
    "kernelspec": {
      "name": "python3",
      "display_name": "Python 3"
    },
    "language_info": {
      "name": "python"
    }
  },
  "cells": [
    {
      "cell_type": "markdown",
      "metadata": {
        "id": "view-in-github",
        "colab_type": "text"
      },
      "source": [
        "<a href=\"https://colab.research.google.com/github/yeriel03/stock-price-prediction/blob/main/Stock_price_prediction.ipynb\" target=\"_parent\"><img src=\"https://colab.research.google.com/assets/colab-badge.svg\" alt=\"Open In Colab\"/></a>"
      ]
    },
    {
      "cell_type": "markdown",
      "source": [
        "# 필요한 라이브러리 설치"
      ],
      "metadata": {
        "id": "TCyIN6PRJ_hI"
      }
    },
    {
      "cell_type": "code",
      "execution_count": null,
      "metadata": {
        "collapsed": true,
        "id": "xTyMFf8wLlte"
      },
      "outputs": [],
      "source": [
        "pip install yfinance"
      ]
    },
    {
      "cell_type": "code",
      "source": [
        "pip install keras-tuner"
      ],
      "metadata": {
        "id": "1o3q7DiXRxO8",
        "collapsed": true
      },
      "execution_count": null,
      "outputs": []
    },
    {
      "cell_type": "code",
      "source": [
        "!pip install tensorflow keras"
      ],
      "metadata": {
        "collapsed": true,
        "id": "wq6Ke6XgLpiB"
      },
      "execution_count": null,
      "outputs": []
    },
    {
      "cell_type": "markdown",
      "source": [
        "# 라이브러리 불러오기"
      ],
      "metadata": {
        "id": "4WvFD7IrKE2K"
      }
    },
    {
      "cell_type": "code",
      "execution_count": null,
      "metadata": {
        "id": "nG9UcAm4Y0J8"
      },
      "outputs": [],
      "source": [
        "import pandas as pd\n",
        "import numpy as np\n",
        "import yfinance as yf\n",
        "import matplotlib.pyplot as plt\n",
        "import seaborn as sns\n",
        "from sklearn.preprocessing import MinMaxScaler\n",
        "from sklearn.model_selection import train_test_split\n",
        "from keras.models import Sequential\n",
        "from keras.layers import Conv1D, LSTM, GRU, Dense, Dropout\n",
        "import tensorflow as tf\n",
        "from tensorflow.keras.models import Sequential\n",
        "from tensorflow.keras.layers import Conv1D, MaxPooling1D, LSTM, Dense, Dropout, GRU, Flatten, LeakyReLU\n",
        "from sklearn.metrics import mean_absolute_error, mean_squared_error, r2_score, mean_absolute_percentage_error\n",
        "from tensorflow.keras.callbacks import EarlyStopping, ReduceLROnPlateau\n",
        "import keras_tuner as kt\n",
        "from keras.optimizers import Adam\n",
        "from kerastuner.tuners import RandomSearch"
      ]
    },
    {
      "cell_type": "markdown",
      "source": [
        "# 데이터 수집 및 전처리"
      ],
      "metadata": {
        "id": "G4QCByB8KJPS"
      }
    },
    {
      "cell_type": "code",
      "source": [
        "# 삼성전자 주가 데이터 수집\n",
        "ticker = '005930.KS'  # 삼성전자의 티커\n",
        "sam_data = yf.download(ticker, start='2020-01-01', end='2024-01-01')\n",
        "sam_data.reset_index(inplace=True)\n",
        "sam_data.columns = sam_data.columns.droplevel('Ticker')\n",
        "\n",
        "# 5일, 20일 이동평균선 계산\n",
        "sam_data['MA_5'] = sam_data['Close'].rolling(window=5).mean()\n",
        "sam_data['MA_20'] = sam_data['Close'].rolling(window=20).mean()\n",
        "\n",
        "# NaN 값이 있는 행 제거\n",
        "sam_data = sam_data.dropna(subset=['MA_5', 'MA_20'])"
      ],
      "metadata": {
        "id": "RE6Lnmkbh4wM"
      },
      "execution_count": null,
      "outputs": []
    },
    {
      "cell_type": "code",
      "source": [
        "# 데이터 전처리\n",
        "X = sam_data[['Open', 'High', 'Low', 'MA_5', 'MA_20', 'Close', 'Volume']]\n",
        "y = sam_data['Close']\n",
        "\n",
        "scaler_X = MinMaxScaler()\n",
        "scaler_y = MinMaxScaler()\n",
        "\n",
        "X_scaled = scaler_X.fit_transform(X)\n",
        "y_scaled = scaler_y.fit_transform(y.values.reshape(-1, 1))\n",
        "\n",
        "# 데이터셋 생성 함수\n",
        "def create_dataset(X, y, time_steps=10):\n",
        "    Xs, ys = [], []\n",
        "    for i in range(len(X) - time_steps):\n",
        "        Xs.append(X[i:i + time_steps])\n",
        "        ys.append(y[i + time_steps])\n",
        "    return np.array(Xs), np.array(ys)\n",
        "\n",
        "# 시간 순서대로 데이터를 분할하는 방법\n",
        "\n",
        "# 훈련 데이터 (80%)와 테스트 데이터 (20%) 분할\n",
        "train_size = int(len(X_scaled) * 0.8)\n",
        "X_train, X_test = X_scaled[:train_size], X_scaled[train_size:]\n",
        "y_train, y_test = y_scaled[:train_size], y_scaled[train_size:]\n",
        "\n",
        "# CNN-LSTM 모델을 위한 데이터셋 생성\n",
        "X_train_cnn_lstm_reshaped, y_train_cnn_lstm_reshaped = create_dataset(X_train, y_train)\n",
        "X_test_cnn_lstm_reshaped, y_test_cnn_lstm_reshaped = create_dataset(X_test, y_test)\n",
        "\n",
        "# CNN-GRU 모델을 위한 데이터셋 생성\n",
        "X_train_cnn_gru_reshaped, y_train_cnn_gru_reshaped = create_dataset(X_train, y_train)\n",
        "X_test_cnn_gru_reshaped, y_test_cnn_gru_reshaped = create_dataset(X_test, y_test)\n",
        "\n",
        "# LSTM-CNN 모델을 위한 데이터셋 생성\n",
        "X_train_lstm_cnn_reshaped, y_train_lstm_cnn_reshaped = create_dataset(X_train, y_train)\n",
        "X_test_lstm_cnn_reshaped, y_test_lstm_cnn_reshaped = create_dataset(X_test, y_test)\n",
        "\n",
        "# GRU-CNN 모델을 위한 데이터셋 생성\n",
        "X_train_gru_cnn_reshaped, y_train_gru_cnn_reshaped = create_dataset(X_train, y_train)\n",
        "X_test_gru_cnn_reshaped, y_test_gru_cnn_reshaped = create_dataset(X_test, y_test)"
      ],
      "metadata": {
        "id": "q0dRQYJsh-xU"
      },
      "execution_count": null,
      "outputs": []
    },
    {
      "cell_type": "markdown",
      "source": [
        "# 모델 구축"
      ],
      "metadata": {
        "id": "IJ0ZOmnPKQbJ"
      }
    },
    {
      "cell_type": "code",
      "source": [
        "# CNN-LSTM 모델\n",
        "def create_cnn_lstm_model(input_shape):\n",
        "    model = Sequential()\n",
        "    model.add(Conv1D(filters=32, kernel_size=1, padding='same', activation='tanh', input_shape=input_shape))\n",
        "    model.add(MaxPooling1D(pool_size=1, padding='same'))\n",
        "    model.add(Dropout(0.3))\n",
        "    model.add(LSTM(64, activation='tanh', return_sequences=False))\n",
        "    model.add(Dropout(0.3))\n",
        "    model.add(Dense(1))\n",
        "    model.compile(optimizer=tf.keras.optimizers.Adam(learning_rate=0.001), loss='mean_absolute_error')\n",
        "    return model\n",
        "\n",
        "cnn_lstm_model = create_cnn_lstm_model((X_train_cnn_lstm_reshaped.shape[1], X_train_cnn_lstm_reshaped.shape[2]))\n",
        "cnn_lstm_model.fit(X_train_cnn_lstm_reshaped, y_train_cnn_lstm_reshaped, epochs=100, batch_size=64, validation_data=(X_test_cnn_lstm_reshaped, y_test_cnn_lstm_reshaped), verbose=1)\n",
        "\n",
        "# 예측 및 역 스케일링\n",
        "y_pred_cnn_lstm_scaled = cnn_lstm_model.predict(X_test_cnn_lstm_reshaped)\n",
        "y_pred_cnn_lstm = scaler_y.inverse_transform(y_pred_cnn_lstm_scaled)\n",
        "y_test_original = scaler_y.inverse_transform(y_test_cnn_lstm_reshaped)"
      ],
      "metadata": {
        "collapsed": true,
        "id": "Z3C4Qa52iBUG"
      },
      "execution_count": null,
      "outputs": []
    },
    {
      "cell_type": "code",
      "source": [
        "# 평가 지표 계산\n",
        "mae_cnn_lstm = mean_absolute_error(y_test_original, y_pred_cnn_lstm)\n",
        "mse_cnn_lstm = mean_squared_error(y_test_original, y_pred_cnn_lstm)\n",
        "r2_cnn_lstm = r2_score(y_test_original, y_pred_cnn_lstm)\n",
        "mape_cnn_lstm = mean_absolute_percentage_error(y_test_original, y_pred_cnn_lstm)\n",
        "\n",
        "# 출력\n",
        "print(f\"CNN-LSTM 모델 MAE: {mae_cnn_lstm}, MSE: {mse_cnn_lstm}, R²: {r2_cnn_lstm}, MAPE: {mape_cnn_lstm}\")"
      ],
      "metadata": {
        "id": "8xCR-O0BmyFX"
      },
      "execution_count": null,
      "outputs": []
    },
    {
      "cell_type": "code",
      "source": [
        "# CNN-GRU 모델\n",
        "def create_cnn_gru_model(input_shape, learning_rate=0.001):\n",
        "    model = Sequential()\n",
        "    model.add(Conv1D(filters=64, kernel_size=3, activation='relu', input_shape=input_shape))\n",
        "    model.add(MaxPooling1D(pool_size=1))\n",
        "    model.add(Dropout(0.1))\n",
        "    model.add(GRU(69, activation='relu', return_sequences=False))\n",
        "    model.add(Dropout(0.3))\n",
        "    model.add(Dense(1))\n",
        "    model.compile(optimizer=Adam(learning_rate=learning_rate), loss='mean_squared_error')\n",
        "    return model\n",
        "\n",
        "cnn_gru_model = create_cnn_gru_model(input_shape=(X_train_cnn_gru_reshaped.shape[1], X_train_cnn_gru_reshaped.shape[2]), learning_rate=0.0032)\n",
        "cnn_gru_model.fit(X_train_cnn_gru_reshaped, y_train_cnn_gru_reshaped, epochs=500, batch_size=64, validation_data=(X_test_cnn_gru_reshaped, y_test_cnn_gru_reshaped), verbose=1)\n",
        "\n",
        "# 예측 및 역 스케일링\n",
        "y_pred_cnn_gru_scaled = cnn_gru_model.predict(X_test_cnn_gru_reshaped)\n",
        "y_pred_cnn_gru = scaler_y.inverse_transform(y_pred_cnn_gru_scaled)"
      ],
      "metadata": {
        "collapsed": true,
        "id": "m31ifVoViDsr"
      },
      "execution_count": null,
      "outputs": []
    },
    {
      "cell_type": "code",
      "source": [
        "# 평가 지표 계산\n",
        "mae_cnn_gru = mean_absolute_error(y_test_original, y_pred_cnn_gru)\n",
        "mse_cnn_gru = mean_squared_error(y_test_original, y_pred_cnn_gru)\n",
        "r2_cnn_gru = r2_score(y_test_original, y_pred_cnn_gru)\n",
        "mape_cnn_gru = mean_absolute_percentage_error(y_test_original, y_pred_cnn_gru)\n",
        "\n",
        "# 출력\n",
        "print(f\"CNN-GRU 모델 MAE: {mae_cnn_gru}, MSE: {mse_cnn_gru}, R²: {r2_cnn_gru}, MAPE: {mape_cnn_gru}\")"
      ],
      "metadata": {
        "id": "XAuBWl8am2-t"
      },
      "execution_count": null,
      "outputs": []
    },
    {
      "cell_type": "code",
      "source": [
        "# LSTM-CNN 모델\n",
        "def create_lstm_cnn_model(input_shape):\n",
        "    model = Sequential()\n",
        "    model.add(LSTM(64, activation='tanh', input_shape=input_shape, return_sequences=True))\n",
        "    model.add(Dropout(0.1))\n",
        "    model.add(Conv1D(filters=48, kernel_size=3, padding='same', activation='relu'))\n",
        "    model.add(MaxPooling1D(pool_size=2, padding='same'))\n",
        "    model.add(Dropout(0.2))\n",
        "    model.add(Flatten())\n",
        "    model.add(Dense(1))\n",
        "    model.compile(optimizer=tf.keras.optimizers.Adam(learning_rate=0.01), loss='mean_absolute_error')\n",
        "    return model\n",
        "\n",
        "lstm_cnn_model = create_lstm_cnn_model((X_train_lstm_cnn_reshaped.shape[1], X_train_lstm_cnn_reshaped.shape[2]))\n",
        "lstm_cnn_model.fit(X_train_lstm_cnn_reshaped, y_train_lstm_cnn_reshaped, epochs=100, batch_size=32, validation_data=(X_test_lstm_cnn_reshaped, y_test_lstm_cnn_reshaped), verbose=1)\n",
        "\n",
        "# 예측 및 역 스케일링\n",
        "y_pred_lstm_cnn_scaled = lstm_cnn_model.predict(X_test_lstm_cnn_reshaped)\n",
        "y_pred_lstm_cnn = scaler_y.inverse_transform(y_pred_lstm_cnn_scaled)"
      ],
      "metadata": {
        "collapsed": true,
        "id": "GGu4dcsziF40"
      },
      "execution_count": null,
      "outputs": []
    },
    {
      "cell_type": "code",
      "source": [
        "# 평가 지표 계산\n",
        "mae_lstm_cnn = mean_absolute_error(y_test_original, y_pred_lstm_cnn)\n",
        "mse_lstm_cnn = mean_squared_error(y_test_original, y_pred_lstm_cnn)\n",
        "r2_lstm_cnn = r2_score(y_test_original, y_pred_lstm_cnn)\n",
        "mape_lstm_cnn = mean_absolute_percentage_error(y_test_original, y_pred_lstm_cnn)\n",
        "\n",
        "# 출력\n",
        "print(f\"LSTM-CNN 모델 MAE: {mae_lstm_cnn}, MSE: {mse_lstm_cnn}, R²: {r2_lstm_cnn}, MAPE: {mape_lstm_cnn}\")"
      ],
      "metadata": {
        "id": "wE8hj1w-m80U"
      },
      "execution_count": null,
      "outputs": []
    },
    {
      "cell_type": "code",
      "source": [
        "# GRU-CNN 모델\n",
        "def create_gru_cnn_model(input_shape):\n",
        "    model = Sequential()\n",
        "    model.add(GRU(96, activation='relu', input_shape=input_shape, return_sequences=True))\n",
        "    model.add(Dropout(0.1))\n",
        "    model.add(Conv1D(filters=96, kernel_size=3, activation='relu'))\n",
        "    model.add(MaxPooling1D(pool_size=1))\n",
        "    model.add(Dropout(0.2))\n",
        "    model.add(Flatten())\n",
        "    model.add(Dense(1))\n",
        "    model.compile(optimizer=tf.keras.optimizers.Adam(learning_rate=0.0032), loss='mean_absolute_error')\n",
        "    return model\n",
        "\n",
        "gru_cnn_model = create_gru_cnn_model((X_train_gru_cnn_reshaped.shape[1], X_train_gru_cnn_reshaped.shape[2]))\n",
        "gru_cnn_model.fit(X_train_gru_cnn_reshaped, y_train_gru_cnn_reshaped, epochs=500, batch_size=32, validation_data=(X_test_gru_cnn_reshaped, y_test_gru_cnn_reshaped), verbose=1)\n",
        "\n",
        "# 예측 및 역 스케일링\n",
        "y_pred_gru_cnn_scaled = gru_cnn_model.predict(X_test_gru_cnn_reshaped)\n",
        "y_pred_gru_cnn = scaler_y.inverse_transform(y_pred_gru_cnn_scaled)"
      ],
      "metadata": {
        "collapsed": true,
        "id": "62bCxAGViMsx"
      },
      "execution_count": null,
      "outputs": []
    },
    {
      "cell_type": "code",
      "source": [
        "# 평가 지표 계산\n",
        "mae_gru_cnn = mean_absolute_error(y_test_original, y_pred_gru_cnn)\n",
        "mse_gru_cnn = mean_squared_error(y_test_original, y_pred_gru_cnn)\n",
        "r2_gru_cnn = r2_score(y_test_original, y_pred_gru_cnn)\n",
        "mape_gru_cnn = mean_absolute_percentage_error(y_test_original, y_pred_gru_cnn)\n",
        "\n",
        "# 출력\n",
        "print(f\"GRU-CNN 모델 MAE: {mae_gru_cnn}, MSE: {mse_gru_cnn}, R²: {r2_gru_cnn}, MAPE: {mape_gru_cnn}\")"
      ],
      "metadata": {
        "id": "1Y6J8XWdnK8w"
      },
      "execution_count": null,
      "outputs": []
    },
    {
      "cell_type": "markdown",
      "source": [
        "# 시각화"
      ],
      "metadata": {
        "id": "FsIxcMJZKVwp"
      }
    },
    {
      "cell_type": "code",
      "source": [
        "# 시각화\n",
        "plt.figure(figsize=(10, 6))\n",
        "plt.plot(y_test_original, color='blue', label='Actual Prices')\n",
        "plt.plot(y_pred_cnn_lstm, color='red', label='CNN-LSTM')\n",
        "plt.plot(y_pred_cnn_gru, color='green', label='CNN-GRU')\n",
        "plt.plot(y_pred_lstm_cnn, color='purple', label='LSTM-CNN')\n",
        "plt.plot(y_pred_gru_cnn, color='orange', label='GRU-CNN')\n",
        "plt.title('Stock Price Prediction Comparison')\n",
        "plt.xlabel('Time')\n",
        "plt.ylabel('Price')\n",
        "plt.legend()\n",
        "plt.show()"
      ],
      "metadata": {
        "id": "djK9-9OfiP1R"
      },
      "execution_count": null,
      "outputs": []
    },
    {
      "cell_type": "code",
      "source": [
        "# 평가 지표 계산\n",
        "def calculate_rmse(y_true, y_pred):\n",
        "    return np.sqrt(mean_squared_error(y_true, y_pred))\n",
        "\n",
        "def calculate_rmae(y_true, y_pred):\n",
        "    return np.sqrt(np.mean(np.abs(y_true - y_pred)))\n",
        "\n",
        "# MAPE, RMAE, RMSE 계산\n",
        "mape_cnn_lstm = mean_absolute_percentage_error(y_test_original, y_pred_cnn_lstm)\n",
        "rmae_cnn_lstm = calculate_rmae(y_test_original, y_pred_cnn_lstm)\n",
        "rmse_cnn_lstm = calculate_rmse(y_test_original, y_pred_cnn_lstm)\n",
        "\n",
        "mape_cnn_gru = mean_absolute_percentage_error(y_test_original, y_pred_cnn_gru)\n",
        "rmae_cnn_gru = calculate_rmae(y_test_original, y_pred_cnn_gru)\n",
        "rmse_cnn_gru = calculate_rmse(y_test_original, y_pred_cnn_gru)\n",
        "\n",
        "mape_lstm_cnn = mean_absolute_percentage_error(y_test_original, y_pred_lstm_cnn)\n",
        "rmae_lstm_cnn = calculate_rmae(y_test_original, y_pred_lstm_cnn)\n",
        "rmse_lstm_cnn = calculate_rmse(y_test_original, y_pred_lstm_cnn)\n",
        "\n",
        "mape_gru_cnn = mean_absolute_percentage_error(y_test_original, y_pred_gru_cnn)\n",
        "rmae_gru_cnn = calculate_rmae(y_test_original, y_pred_gru_cnn)\n",
        "rmse_gru_cnn = calculate_rmse(y_test_original, y_pred_gru_cnn)\n",
        "\n",
        "# 출력\n",
        "print(f\"CNN-LSTM 모델 MAPE: {mape_cnn_lstm}, MAE: {mae_cnn_lstm}, RMSE: {rmse_cnn_lstm}\")\n",
        "print(f\"CNN-GRU 모델 MAPE: {mape_cnn_gru}, MAE: {mae_cnn_gru}, RMSE: {rmse_cnn_gru}\")\n",
        "print(f\"LSTM-CNN 모델 MAPE: {mape_lstm_cnn}, MAE: {mae_lstm_cnn}, RMSE: {rmse_lstm_cnn}\")\n",
        "print(f\"GRU-CNN 모델 MAPE: {mape_gru_cnn}, MAE: {mae_gru_cnn}, RMSE: {rmse_gru_cnn}\")\n",
        "\n",
        "# 막대 그래프\n",
        "evaluation_metrics = ['MAPE', 'MAE', 'RMSE']\n",
        "cnn_lstm_scores = [mape_cnn_lstm, mae_cnn_lstm, rmse_cnn_lstm]\n",
        "cnn_gru_scores = [mape_cnn_gru, mae_cnn_gru, rmse_cnn_gru]\n",
        "lstm_cnn_scores = [mape_lstm_cnn, mae_lstm_cnn, rmse_lstm_cnn]\n",
        "gru_cnn_scores = [mape_gru_cnn, mae_gru_cnn, rmse_gru_cnn]\n",
        "\n",
        "x = np.arange(len(evaluation_metrics))  # x축 위치\n",
        "width = 0.2  # 막대 너비\n",
        "\n",
        "fig, ax = plt.subplots(figsize=(10, 6))\n",
        "\n",
        "# 평가 지표에 따른 각 모델의 막대 그래프 그리기\n",
        "rects1 = ax.bar(x - width * 1.5, cnn_lstm_scores, width, label='CNN-LSTM', color='blue')\n",
        "rects2 = ax.bar(x - width * 0.5, cnn_gru_scores, width, label='CNN-GRU', color='green')\n",
        "rects3 = ax.bar(x + width * 0.5, lstm_cnn_scores, width, label='LSTM-CNN', color='red')\n",
        "rects4 = ax.bar(x + width * 1.5, gru_cnn_scores, width, label='GRU-CNN', color='orange')\n",
        "\n",
        "# 그래프 꾸미기\n",
        "ax.set_ylabel('Scores')\n",
        "ax.set_title('Evaluation Metrics for Different Models')\n",
        "ax.set_xticks(x)\n",
        "ax.set_xticklabels(evaluation_metrics)\n",
        "ax.legend()\n",
        "\n",
        "# 막대에 숫자 표시\n",
        "def add_labels(rects):\n",
        "    for rect in rects:\n",
        "        height = rect.get_height()\n",
        "        ax.annotate(f'{height:.2f}',\n",
        "                    xy=(rect.get_x() + rect.get_width() / 2, height),\n",
        "                    xytext=(0, 3),  # 3 포인트 위로 이동\n",
        "                    textcoords=\"offset points\",\n",
        "                    ha='center', va='bottom')\n",
        "\n",
        "add_labels(rects1)\n",
        "add_labels(rects2)\n",
        "add_labels(rects3)\n",
        "add_labels(rects4)\n",
        "\n",
        "plt.tight_layout()\n",
        "plt.show()"
      ],
      "metadata": {
        "id": "MxFY05F7rjQf"
      },
      "execution_count": null,
      "outputs": []
    }
  ]
}